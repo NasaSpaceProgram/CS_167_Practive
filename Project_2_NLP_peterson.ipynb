{
  "nbformat": 4,
  "nbformat_minor": 0,
  "metadata": {
    "colab": {
      "name": "Project_2_NLP.ipynb",
      "provenance": [],
      "toc_visible": true,
      "include_colab_link": true
    },
    "kernelspec": {
      "name": "python3",
      "display_name": "Python 3"
    },
    "language_info": {
      "name": "python"
    }
  },
  "cells": [
    {
      "cell_type": "markdown",
      "metadata": {
        "id": "view-in-github",
        "colab_type": "text"
      },
      "source": [
        "<a href=\"https://colab.research.google.com/github/NasaSpaceProgram/CS_167_Practive/blob/main/Project_2_NLP_peterson.ipynb\" target=\"_parent\"><img src=\"https://colab.research.google.com/assets/colab-badge.svg\" alt=\"Open In Colab\"/></a>"
      ]
    },
    {
      "cell_type": "markdown",
      "metadata": {
        "id": "vu0Kz0Nq4ui4"
      },
      "source": [
        "# Project \\#2 Starter Code\n",
        "Your project should address the categories below. \n",
        "\n",
        "## Problem:\n",
        "The problem we are trying to solve is decifering if a review is positive or negative and which machine learning algorithum will best perform this task. The data we are given consists of IMDB reviews and an associated centement (either positive or negative). A machine learning modle that could accuratly predict this could be used by online retalers to give more accurate assecments of projects based on these review and allow coperations and users to shift through the reviews more easily at least in regars to differentiation positive and negative reviews. \n"
      ]
    },
    {
      "cell_type": "markdown",
      "metadata": {
        "id": "NBZAVjcWhgBV"
      },
      "source": [
        "# Input Pipeline (sklearn):"
      ]
    },
    {
      "cell_type": "code",
      "metadata": {
        "colab": {
          "base_uri": "https://localhost:8080/",
          "height": 224
        },
        "id": "12XGv2fIfTSr",
        "outputId": "8f76b59f-cb95-451a-ddaa-4a864393aad4"
      },
      "source": [
        "from google.colab import drive\n",
        "from numpy import mean\n",
        "from sklearn import metrics\n",
        "import matplotlib.pyplot as plt\n",
        "import pandas\n",
        "drive.mount('/content/drive')\n",
        "data = pandas.read_csv('/content/drive/MyDrive/CS167/datasets/IMDB_dataset.csv')\n",
        "data.head()"
      ],
      "execution_count": 4,
      "outputs": [
        {
          "output_type": "stream",
          "name": "stdout",
          "text": [
            "Drive already mounted at /content/drive; to attempt to forcibly remount, call drive.mount(\"/content/drive\", force_remount=True).\n"
          ]
        },
        {
          "output_type": "execute_result",
          "data": {
            "text/html": [
              "<div>\n",
              "<style scoped>\n",
              "    .dataframe tbody tr th:only-of-type {\n",
              "        vertical-align: middle;\n",
              "    }\n",
              "\n",
              "    .dataframe tbody tr th {\n",
              "        vertical-align: top;\n",
              "    }\n",
              "\n",
              "    .dataframe thead th {\n",
              "        text-align: right;\n",
              "    }\n",
              "</style>\n",
              "<table border=\"1\" class=\"dataframe\">\n",
              "  <thead>\n",
              "    <tr style=\"text-align: right;\">\n",
              "      <th></th>\n",
              "      <th>review</th>\n",
              "      <th>sentiment</th>\n",
              "    </tr>\n",
              "  </thead>\n",
              "  <tbody>\n",
              "    <tr>\n",
              "      <th>0</th>\n",
              "      <td>One of the other reviewers has mentioned that ...</td>\n",
              "      <td>positive</td>\n",
              "    </tr>\n",
              "    <tr>\n",
              "      <th>1</th>\n",
              "      <td>A wonderful little production. &lt;br /&gt;&lt;br /&gt;The...</td>\n",
              "      <td>positive</td>\n",
              "    </tr>\n",
              "    <tr>\n",
              "      <th>2</th>\n",
              "      <td>I thought this was a wonderful way to spend ti...</td>\n",
              "      <td>positive</td>\n",
              "    </tr>\n",
              "    <tr>\n",
              "      <th>3</th>\n",
              "      <td>Basically there's a family where a little boy ...</td>\n",
              "      <td>negative</td>\n",
              "    </tr>\n",
              "    <tr>\n",
              "      <th>4</th>\n",
              "      <td>Petter Mattei's \"Love in the Time of Money\" is...</td>\n",
              "      <td>positive</td>\n",
              "    </tr>\n",
              "  </tbody>\n",
              "</table>\n",
              "</div>"
            ],
            "text/plain": [
              "                                              review sentiment\n",
              "0  One of the other reviewers has mentioned that ...  positive\n",
              "1  A wonderful little production. <br /><br />The...  positive\n",
              "2  I thought this was a wonderful way to spend ti...  positive\n",
              "3  Basically there's a family where a little boy ...  negative\n",
              "4  Petter Mattei's \"Love in the Time of Money\" is...  positive"
            ]
          },
          "metadata": {},
          "execution_count": 4
        }
      ]
    },
    {
      "cell_type": "markdown",
      "metadata": {
        "id": "ICUC-PvQ5bP2"
      },
      "source": [
        "## Data Exploration:\n",
        "- Number of samples\n",
        "- Number of classes of the target variable\n",
        "- Number of words per sample\n",
        "- Distribution of sample length\n",
        "- Something else: get creative :) "
      ]
    },
    {
      "cell_type": "code",
      "metadata": {
        "id": "9kkCmgdf5ZqB",
        "colab": {
          "base_uri": "https://localhost:8080/"
        },
        "outputId": "7488be21-aad5-45a0-cfa0-7cd9315e1fda"
      },
      "source": [
        "## Use cells here to explore the data:\n",
        "s = data[\"review\"].str.split().apply(len)\n",
        "print(\"The number of samples is \" + str(data.shape[0]))\n",
        "print(\"The number of Catagories is \" + str(data[\"sentiment\"].unique()))\n",
        "print(\"The number of Positive Reviews is \" + str(data[data[\"sentiment\"]=='positive'].shape[0]))\n",
        "print(\"The number of negative Reviews is \" + str(data[data[\"sentiment\"]=='negative'].shape[0]))\n",
        "print(\"The median number of words per sample is \" + str(s.median()))\n",
        "print(\"The average number of words per sample is \" + str(s.mean()))\n",
        "print(\"The Smallest number of words per sample is \" + str(s.min()))\n",
        "print(\"The Largest number of words per sample is \" + str(s.max()))"
      ],
      "execution_count": 5,
      "outputs": [
        {
          "output_type": "stream",
          "name": "stdout",
          "text": [
            "The number of samples is 50000\n",
            "The number of Catagories is ['positive' 'negative']\n",
            "The number of Positive Reviews is 25000\n",
            "The number of negative Reviews is 25000\n",
            "The median number of words per sample is 173.0\n",
            "The average number of words per sample is 231.15694\n",
            "The Smallest number of words per sample is 4\n",
            "The Largest number of words per sample is 2470\n"
          ]
        }
      ]
    },
    {
      "cell_type": "code",
      "metadata": {
        "id": "T_lxgwP9_WCd",
        "colab": {
          "base_uri": "https://localhost:8080/",
          "height": 283
        },
        "outputId": "da719a21-b588-47dd-a438-59700b7cd957"
      },
      "source": [
        "s.hist(bins = 500)"
      ],
      "execution_count": 6,
      "outputs": [
        {
          "output_type": "execute_result",
          "data": {
            "text/plain": [
              "<matplotlib.axes._subplots.AxesSubplot at 0x7ff34f514ad0>"
            ]
          },
          "metadata": {},
          "execution_count": 6
        },
        {
          "output_type": "display_data",
          "data": {
            "image/png": "[encoded data removed]",
            "text/plain": [
              "<Figure size 432x288 with 1 Axes>"
            ]
          },
          "metadata": {
            "needs_background": "light"
          }
        }
      ]
    },
    {
      "cell_type": "code",
      "metadata": {
        "colab": {
          "base_uri": "https://localhost:8080/",
          "height": 283
        },
        "id": "svx4nTDhN5WQ",
        "outputId": "35f0354f-13e3-4c87-b6ad-31a7c001dd99"
      },
      "source": [
        "s.hist(range=(0,300) ,bins = 300)"
      ],
      "execution_count": 7,
      "outputs": [
        {
          "output_type": "execute_result",
          "data": {
            "text/plain": [
              "<matplotlib.axes._subplots.AxesSubplot at 0x7ff32421cf50>"
            ]
          },
          "metadata": {},
          "execution_count": 7
        },
        {
          "output_type": "display_data",
          "data": {
            "image/png": "[encoded data removed]",
            "text/plain": [
              "<Figure size 432x288 with 1 Axes>"
            ]
          },
          "metadata": {
            "needs_background": "light"
          }
        }
      ]
    },
    {
      "cell_type": "markdown",
      "metadata": {
        "id": "ZSuguZ6u5lUl"
      },
      "source": [
        "## Data Preparation\n",
        "\n",
        "I'm providing you with code that cleans the reviews by making it all lowercase letters and removing stop words. The three cells below do this for you. I still want you to explain what you did with the data here. \n",
        "\n",
        "\n",
        "First I downloaded a list of stop words from nltk then we go through each review and clean out the data. \\\\\n",
        "This includes taking out all of the non letter charicters, then we make all of the charicters lowecase so that we can comepare them, and Finally we use the list of stopwords that we downloaded to take out all of the stop words.  \n",
        "\n",
        "Once the review side of the data is clean I can take care of the sentement side. This must be converted to numerical data so I will go through and change ever positive to a one and every negative to a 0. \n",
        "\n",
        "Then I can vectorize the data. To do this we will create a grabbage of several hundred of the most common words and turn our revies into lists of how many times each of these words occures int the review. This will cause us to loose the infomation about the sequence of the words but it will make our data much easier to work with. \n",
        "\n",
        "Finally I used a PCA to lower the dimentionality of the data to make the modles take a bit less time to train. "
      ]
    },
    {
      "cell_type": "code",
      "metadata": {
        "id": "YV4FfvLegTSh",
        "colab": {
          "base_uri": "https://localhost:8080/"
        },
        "outputId": "f41ee240-6c3d-4bd1-f032-5ccd9cee61fb"
      },
      "source": [
        "from bs4 import BeautifulSoup\n",
        "import re\n",
        "#natural langue too kit\n",
        "import nltk\n",
        "#only do next line once\n",
        "\n",
        "\n",
        "# DOWNLOAD STOP WORDS LIST SO WE CAN TAKE THEM OUT\n",
        "nltk.download() #in Corpora tab, download stopwords\n",
        "from nltk.corpus import stopwords\n",
        "from sklearn.model_selection import train_test_split\n",
        "#The NLTK downloader will open, you need to select (d) for Download, and then 'stopwords'then (q) to quit\n",
        "#    stopwords"
      ],
      "execution_count": 8,
      "outputs": [
        {
          "name": "stdout",
          "output_type": "stream",
          "text": [
            "NLTK Downloader\n",
            "---------------------------------------------------------------------------\n",
            "    d) Download   l) List    u) Update   c) Config   h) Help   q) Quit\n",
            "---------------------------------------------------------------------------\n",
            "Downloader> d\n",
            "\n",
            "Download which package (l=list; x=cancel)?\n",
            "  Identifier> stopwords\n",
            "    Downloading package stopwords to /root/nltk_data...\n",
            "      Unzipping corpora/stopwords.zip.\n",
            "\n",
            "---------------------------------------------------------------------------\n",
            "    d) Download   l) List    u) Update   c) Config   h) Help   q) Quit\n",
            "---------------------------------------------------------------------------\n",
            "Downloader> q\n"
          ]
        }
      ]
    },
    {
      "cell_type": "code",
      "metadata": {
        "id": "tTEr6vRUgOUs"
      },
      "source": [
        "#This is a function that takes in a review, makes sure it is only lower case letters and removes stopwords.\n",
        "#It returns the cleaned review text.\n",
        "def clean_review(review):\n",
        "    #input is a string review\n",
        "    #return is review cleaned of all punctuation, lowercase, and removed nltk stopwords\n",
        "\n",
        "    # TAKE OUT ANYTHING THAT ISNT A LETTER\n",
        "    letters_only = re.sub(\"[^a-zA-Z]\",\" \",review)\n",
        "    # MAKE EVERYTHING LOWER CASE\n",
        "    lower_case = letters_only.lower()\n",
        "    # SPLIT THE STRINGS INTO AN ARRAY OF WORDS\n",
        "    words = lower_case.split()\n",
        "    for stop_word in stopwords.words(\"english\"):\n",
        "      # TAKE OUT THE STOP WORDS\n",
        "        while stop_word in words:\n",
        "            words.remove(stop_word)\n",
        "    cleaned = \" \".join(words)\n",
        "    return cleaned"
      ],
      "execution_count": 9,
      "outputs": []
    },
    {
      "cell_type": "code",
      "metadata": {
        "id": "QEjHsILZgk9V"
      },
      "source": [
        "#process the data\n",
        "cleaned_text = []\n",
        "for i in range(len(data)):\n",
        "    cleaned_text.append(clean_review(data[\"review\"][i]))  "
      ],
      "execution_count": 10,
      "outputs": []
    },
    {
      "cell_type": "code",
      "metadata": {
        "id": "LMg3P0ZNBvGM",
        "colab": {
          "base_uri": "https://localhost:8080/"
        },
        "outputId": "0bb9bf11-f3ee-4ef1-9ea5-0707d5fa5477"
      },
      "source": [
        "cleaned_text[:5]"
      ],
      "execution_count": 11,
      "outputs": [
        {
          "output_type": "execute_result",
          "data": {
            "text/plain": [
              "['one reviewers mentioned watching oz episode hooked right exactly happened br br first thing struck oz brutality unflinching scenes violence set right word go trust show faint hearted timid show pulls punches regards drugs sex violence hardcore classic use word br br called oz nickname given oswald maximum security state penitentary focuses mainly emerald city experimental section prison cells glass fronts face inwards privacy high agenda em city home many aryans muslims gangstas latinos christians italians irish scuffles death stares dodgy dealings shady agreements never far away br br would say main appeal show due fact goes shows dare forget pretty pictures painted mainstream audiences forget charm forget romance oz mess around first episode ever saw struck nasty surreal say ready watched developed taste oz got accustomed high levels graphic violence violence injustice crooked guards sold nickel inmates kill order get away well mannered middle class inmates turned prison bitches due lack street skills prison experience watching oz may become comfortable uncomfortable viewing thats get touch darker side',\n",
              " 'wonderful little production br br filming technique unassuming old time bbc fashion gives comforting sometimes discomforting sense realism entire piece br br actors extremely well chosen michael sheen got polari voices pat truly see seamless editing guided references williams diary entries well worth watching terrificly written performed piece masterful production one great master comedy life br br realism really comes home little things fantasy guard rather use traditional dream techniques remains solid disappears plays knowledge senses particularly scenes concerning orton halliwell sets particularly flat halliwell murals decorating every surface terribly well done',\n",
              " 'thought wonderful way spend time hot summer weekend sitting air conditioned theater watching light hearted comedy plot simplistic dialogue witty characters likable even well bread suspected serial killer may disappointed realize match point risk addiction thought proof woody allen still fully control style many us grown love br br laughed one woody comedies years dare say decade never impressed scarlet johanson managed tone sexy image jumped right average spirited young woman br br may crown jewel career wittier devil wears prada interesting superman great comedy go see friends',\n",
              " 'basically family little boy jake thinks zombie closet parents fighting time br br movie slower soap opera suddenly jake decides become rambo kill zombie br br ok first going make film must decide thriller drama drama movie watchable parents divorcing arguing like real life jake closet totally ruins film expected see boogeyman similar movie instead watched drama meaningless thriller spots br br well playing parents descent dialogs shots jake ignore',\n",
              " 'petter mattei love time money visually stunning film watch mr mattei offers us vivid portrait human relations movie seems telling us money power success people different situations encounter br br variation arthur schnitzler play theme director transfers action present time new york different characters meet connect one connected one way another next person one seems know previous point contact stylishly film sophisticated luxurious look taken see people live world live habitat br br thing one gets souls picture different stages loneliness one inhabits big city exactly best place human relations find sincere fulfillment one discerns case people encounter br br acting good mr mattei direction steve buscemi rosario dawson carol kane michael imperioli adrian grenier rest talented cast make characters come alive br br wish mr mattei good luck await anxiously next work']"
            ]
          },
          "metadata": {},
          "execution_count": 11
        }
      ]
    },
    {
      "cell_type": "code",
      "metadata": {
        "id": "C_PqgY2OvgVV"
      },
      "source": [
        "#enumerate the sentements so that they are easier to work with. \n",
        "def enumer(s):\n",
        "  if s == \"positive\":\n",
        "    return 1\n",
        "  else:\n",
        "    return 0 \n",
        "\n",
        "Enumerated_Sentiments = data['sentiment'].apply(enumer)"
      ],
      "execution_count": 12,
      "outputs": []
    },
    {
      "cell_type": "code",
      "metadata": {
        "id": "spDgSTvCg9wk"
      },
      "source": [
        "#establish training and testing dataset\n",
        "train_data, test_data, train_sln, test_sln = \\\n",
        "    train_test_split(cleaned_text, Enumerated_Sentiments, test_size = 0.2, random_state=0) "
      ],
      "execution_count": 13,
      "outputs": []
    },
    {
      "cell_type": "markdown",
      "metadata": {
        "id": "4eWkGy43wbKm"
      },
      "source": [
        "Change positive and negative to 0 and 1\n",
        "USE pcs\n"
      ]
    },
    {
      "cell_type": "markdown",
      "metadata": {
        "id": "-86AHOAkDpge"
      },
      "source": [
        "### Vectorizing the data\n",
        "\n",
        "**CountVectorizer**: Convert a collection of text documents to a matrix of token counts"
      ]
    },
    {
      "cell_type": "code",
      "metadata": {
        "id": "nwmex98NDgqJ"
      },
      "source": [
        "from sklearn.feature_extraction.text import CountVectorizer \n",
        "\n",
        "#Bag of Words with 5000 most common words\n",
        "vectorizer = CountVectorizer(analyzer='word', max_features = 500)\n",
        "#find the right 5000 words\n",
        "vectorizer.fit(train_data)\n",
        "\n",
        "#use the vectorizer to transform review strings into word count vectors \n",
        "train_data_vectors = vectorizer.transform(train_data).toarray()\n",
        "test_data_vectors = vectorizer.transform(test_data).toarray()\n",
        "\n",
        "\n",
        "#Make a vocabulary: all the unique words \n",
        "#Make each review an array witht he length of the language\n",
        "#Have the counts of each word in the review as the \n",
        "\n",
        "# note the smaller we make the vocabulary the more sentement we loose "
      ],
      "execution_count": 14,
      "outputs": []
    },
    {
      "cell_type": "markdown",
      "metadata": {
        "id": "lqOylQisSBlQ"
      },
      "source": [
        "###PCA"
      ]
    },
    {
      "cell_type": "code",
      "metadata": {
        "id": "F57VtSBGSHjw"
      },
      "source": [
        "from sklearn.decomposition import PCA\n",
        "extractor = PCA(n_components=10, whiten=True)\n",
        "#When fitting with PCA, you do not use the target column - this is an unsupervised learning algorithm\n",
        "extractor.fit(train_data_vectors)\n",
        "\n",
        "train_transformed = extractor.transform(train_data_vectors)\n",
        "\n",
        "#Now we transform the predictor columns in the test set as well.\n",
        "#Notice that we're using the extractor that we trained using the training set.\n",
        "#Do not re-fit it to the test data. \n",
        "test_transformed = extractor.transform(test_data_vectors)"
      ],
      "execution_count": 15,
      "outputs": []
    },
    {
      "cell_type": "markdown",
      "metadata": {
        "id": "jilcpe3nSPh3"
      },
      "source": [
        "#Models and Tuning\n",
        "##Metrics\n",
        "For metrics I used accuracy because we are working with classification data. \n",
        "##Models\n",
        "In this project I used  Support Vector Classifers, Perceptrons, and multi layered perceptrons. For the SVCs I was going to tune the kernal and the gamma values however collaberate kept closing my session for taking too long so I switched to just gamma. For the perceptrons I tuned the epoch and the learning rate. Finnaly for MLPs I tuned the epoch and the number of hidden layers. "
      ]
    },
    {
      "cell_type": "markdown",
      "metadata": {
        "id": "kL633Y7kRyQd"
      },
      "source": [
        "##SVCs"
      ]
    },
    {
      "cell_type": "code",
      "metadata": {
        "id": "Bn9zyOGbR9Mf",
        "colab": {
          "base_uri": "https://localhost:8080/"
        },
        "outputId": "ffed24fd-2794-4a88-eb16-7777a9cf1351"
      },
      "source": [
        "from sklearn.svm import SVC\n",
        "clf = SVC(kernel= \"poly\", gamma = 0.1)                           \n",
        "clf.fit(train_transformed ,train_sln)\n",
        "predictions = clf.predict(test_transformed)\n",
        "\n",
        "#output accuracy\n",
        "print(\"accuracy:\", metrics.accuracy_score(test_sln, predictions))"
      ],
      "execution_count": 20,
      "outputs": [
        {
          "output_type": "stream",
          "name": "stdout",
          "text": [
            "accuracy: 0.677\n"
          ]
        }
      ]
    },
    {
      "cell_type": "code",
      "metadata": {
        "id": "0J7-SRKQhUNl",
        "colab": {
          "base_uri": "https://localhost:8080/",
          "height": 308
        },
        "outputId": "7fd84e0c-6557-49d9-a9cb-2d7875673ba6"
      },
      "source": [
        "from sklearn.svm import SVC\n",
        "gammas = [0.2,0.3,0.5,0.7,0.9,1.1,1.3,1.5,1.7,1.9]\n",
        "\n",
        "def SVC_Tune(gammas):\n",
        "  accuracys = []\n",
        "  for g in gammas:\n",
        "      clf = SVC(gamma= g)\n",
        "      clf.fit(train_transformed,train_sln)\n",
        "      curr_predictions = clf.predict(test_transformed)\n",
        "      curr_acc= metrics.accuracy_score(test_sln,curr_predictions)\n",
        "      accuracys.append(curr_acc)\n",
        "  return(accuracys)\n",
        "\n",
        "\n",
        "def SVC_Tune_graph(accuracys,gammas):\n",
        "    plt.suptitle('SVC accuracy vs. gamma',fontsize=18)\n",
        "    plt.xlabel('gamma')\n",
        "    plt.ylabel('accuracy')\n",
        "    plt.plot(gammas,accuracys)\n",
        "    plt.axis([gammas[0]-1,gammas[-1]+1,min(accuracys)-.01,max(accuracys)+.01])\n",
        "    plt.show()\n",
        "accuracys = SVC_Tune(gammas)\n",
        "SVC_Tune_graph(accuracys,gammas)"
      ],
      "execution_count": 30,
      "outputs": [
        {
          "output_type": "display_data",
          "data": {
            "image/png": "[encoded data removed]",
            "text/plain": [
              "<Figure size 432x288 with 1 Axes>"
            ]
          },
          "metadata": {
            "needs_background": "light"
          }
        }
      ]
    },
    {
      "cell_type": "markdown",
      "metadata": {
        "id": "L4j-00IITHi3"
      },
      "source": [
        "##Perceptron"
      ]
    },
    {
      "cell_type": "code",
      "metadata": {
        "id": "BR-BpagyTLge",
        "colab": {
          "base_uri": "https://localhost:8080/"
        },
        "outputId": "904d897d-1cc2-4901-96b7-caee1f3ebe0d"
      },
      "source": [
        "from sklearn.linear_model import Perceptron\n",
        "\n",
        "\n",
        "#ignore warings -- there are lots of warnings regarding default values of Perceptron; which we accept\n",
        "import warnings\n",
        "warnings.filterwarnings(\"ignore\")\n",
        "\n",
        "#load up scikit-learn Perceptron\n",
        "perc = Perceptron()\n",
        "perc.fit(train_transformed,train_sln)\n",
        "iris_perc_predictions = perc.predict(test_transformed)\n",
        "\n",
        "#output accuracy\n",
        "print(\"accuracy:\", metrics.accuracy_score(test_sln, iris_perc_predictions))"
      ],
      "execution_count": null,
      "outputs": [
        {
          "output_type": "stream",
          "name": "stdout",
          "text": [
            "accuracy: 0.6373\n"
          ]
        }
      ]
    },
    {
      "cell_type": "code",
      "metadata": {
        "id": "VI3nxMjVlXU8",
        "colab": {
          "base_uri": "https://localhost:8080/",
          "height": 308
        },
        "outputId": "893c4b4b-b299-4b55-ce1c-32029a8f7caa"
      },
      "source": [
        "import warnings\n",
        "warnings.filterwarnings(\"ignore\")\n",
        "from sklearn.linear_model import Perceptron\n",
        "max_iters = range(1,21)\n",
        "eta0s = [0.001,0.01,0.05,0.1]\n",
        "\n",
        "def Perceptron_Tune(eta0s,max_iters):\n",
        "    series = {}\n",
        "    for k in eta0s:\n",
        "      accuracys = []\n",
        "      for g in max_iters:\n",
        "        clf = Perceptron(eta0= k, max_iter= g)\n",
        "        clf.fit(train_transformed,train_sln)\n",
        "        curr_predictions = clf.predict(test_transformed)\n",
        "        curr_acc= metrics.accuracy_score(test_sln,curr_predictions)\n",
        "        accuracys.append(curr_acc)\n",
        "      series[k] = accuracys\n",
        "\n",
        "    plt.suptitle('Perceptron accuracy vs. epoch',fontsize=18)\n",
        "    plt.xlabel('epoch')\n",
        "    plt.ylabel('accuracy')\n",
        "    for k in series.keys():\n",
        "      plt.plot(max_iters, series[k] ,label=(\"eta not = \" +str(k)))\n",
        "    plt.axis([max_iters[0]-1,max_iters[-1]+1,0,1])\n",
        "    plt.legend()\n",
        "    plt.show()\n",
        "\n",
        "Perceptron_Tune(eta0s,max_iters)"
      ],
      "execution_count": 44,
      "outputs": [
        {
          "output_type": "display_data",
          "data": {
            "image/png": "[encoded data removed]",
            "text/plain": [
              "<Figure size 432x288 with 1 Axes>"
            ]
          },
          "metadata": {
            "needs_background": "light"
          }
        }
      ]
    },
    {
      "cell_type": "markdown",
      "metadata": {
        "id": "iaef1NBnTM5I"
      },
      "source": [
        "##Multi-layered Perceptron"
      ]
    },
    {
      "cell_type": "code",
      "metadata": {
        "id": "7evlE9Y5TSyX",
        "colab": {
          "base_uri": "https://localhost:8080/"
        },
        "outputId": "759dd764-bd60-4a7e-a7ab-a90f649f3dbd"
      },
      "source": [
        "import warnings\n",
        "warnings.filterwarnings(\"ignore\")\n",
        "\n",
        "from sklearn.neural_network import MLPClassifier\n",
        "\n",
        "mlp = MLPClassifier(random_state=0,hidden_layer_sizes = (100,), max_iter = 800)\n",
        "mlp.fit(train_transformed,train_sln)\n",
        "predictions = mlp.predict(test_transformed)\n",
        "\n",
        "print(\"Accuracy: \", metrics.accuracy_score(test_sln,predictions))\n"
      ],
      "execution_count": null,
      "outputs": [
        {
          "output_type": "stream",
          "name": "stdout",
          "text": [
            "Accuracy:  0.7321\n"
          ]
        }
      ]
    },
    {
      "cell_type": "code",
      "metadata": {
        "id": "DwX94j8tm5pr"
      },
      "source": [
        "import warnings\n",
        "warnings.filterwarnings(\"ignore\")\n",
        "\n",
        "from sklearn.neural_network import MLPClassifier\n",
        "\n",
        "hls = [(50,),(100,),(200,),(300,)]\n",
        "max_iters = range(1,1001,100)\n",
        "def MLP_Tune(hls,max_iters):\n",
        "    series = {}\n",
        "    for k in hls:\n",
        "      accuracys = []\n",
        "      for g in max_iters:\n",
        "        clf = MLPClassifier(hidden_layer_sizes= k, max_iter= g)\n",
        "        clf.fit(train_transformed,train_sln)\n",
        "        curr_predictions = clf.predict(test_transformed)\n",
        "        curr_acc= metrics.accuracy_score(test_sln,curr_predictions)\n",
        "        accuracys.append(curr_acc)\n",
        "      series[k] = accuracys\n",
        "    return(series)\n",
        "\n",
        "series = MLP_Tune(hls,max_iters)"
      ],
      "execution_count": null,
      "outputs": []
    },
    {
      "cell_type": "code",
      "metadata": {
        "colab": {
          "base_uri": "https://localhost:8080/",
          "height": 308
        },
        "id": "ldJLfdxEclrJ",
        "outputId": "2e2ae503-401d-4008-dad4-d718d37667c8"
      },
      "source": [
        "def MLP_Tunes_plot(series,hls,max_iters):\n",
        "    plt.suptitle('MLP accuracy vs. epoch',fontsize=18)\n",
        "    plt.xlabel('epoch')\n",
        "    plt.ylabel('accuracy')\n",
        "    for k in series.keys():\n",
        "      plt.plot(max_iters, series[k],label=(\"Hidden Layer sizes = \" +str(k)))\n",
        "    plt.axis([max_iters[0]-1,max_iters[-1]+1,0.71,0.75])\n",
        "    plt.legend()\n",
        "    plt.show()\n",
        "MLP_Tunes_plot(series,hls,max_iters)"
      ],
      "execution_count": null,
      "outputs": [
        {
          "output_type": "display_data",
          "data": {
            "image/png": "[encoded data removed]",
            "text/plain": [
              "<Figure size 432x288 with 1 Axes>"
            ]
          },
          "metadata": {
            "needs_background": "light"
          }
        }
      ]
    },
    {
      "cell_type": "markdown",
      "metadata": {
        "id": "CnZVsDpXSXCF"
      },
      "source": [
        "# Conclusions"
      ]
    },
    {
      "cell_type": "markdown",
      "metadata": {
        "id": "8dy6lvSsSp6j"
      },
      "source": [
        "##Bumps in the Road"
      ]
    },
    {
      "cell_type": "markdown",
      "metadata": {
        "id": "z4c2HNR3Sx3f"
      },
      "source": [
        "##Results"
      ]
    },
    {
      "cell_type": "markdown",
      "metadata": {
        "id": "wmGXouTFS9gU"
      },
      "source": [
        "##Conclusion/ Discussion"
      ]
    },
    {
      "cell_type": "markdown",
      "metadata": {
        "id": "ymuMVjanEgM_"
      },
      "source": [
        "## Resourses\n",
        "For this project I used the following posted code as reference:\n",
        "\n",
        "Day 14 Code SVC https://github.com/merriekay/CS167Code/blob/main/Day_14_Notes_SVM.ipynb\n",
        "\n",
        "Day 14 Code pt2 PCA https://github.com/merriekay/CS167Code/blob/main/Day14Notes_PCA.ipynb\n",
        "\n",
        "\n",
        "Day 17 Code Peceptron https://github.com/merriekay/CS167Code/blob/main/Day17_Notes_perceptron_f21.ipynb\n",
        "\n",
        "Day 19 Code Multilayer Perceptron https://github.com/merriekay/CS167Code/blob/main/Day19_Notes_ANNs_f21.ipynb\n",
        "\n",
        "Day 23 code NLP https://github.com/merriekay/CS167Code/blob/main/Day23Notes_RNNs4NLP.ipynb\n",
        "\n",
        "\n",
        "\n",
        "\n",
        "\n",
        "For this project I used the following Websights for help:\n",
        "\n",
        "https://pandas.pydata.org/docs/reference/api/pandas.Series.unique.html\n",
        "\n",
        "https://www.w3schools.com/python/ref_string_split.asp\n",
        "\n",
        "https://www.guru99.com/find-average-list-python.html\n",
        "\n",
        "\n",
        "https://pandas.pydata.org/docs/reference/api/pandas.Series.str.split.html\n",
        "\n",
        "https://jonathansoma.com/lede/foundations/classes/pandas%20columns%20and%20functions/apply-a-function-to-every-row-in-a-pandas-dataframe/\n",
        "\n",
        "https://matplotlib.org/stable/api/_as_gen/matplotlib.pyplot.hist.html\n",
        "\n",
        "https://stackoverflow.com/questions/35277075/python-pandas-counting-the-occurrences-of-a-specific-value\n",
        "\n",
        "\n",
        "https://scikit-learn.org/stable/modules/generated/sklearn.svm.SVC.html\n",
        "\n",
        "https://scikit-learn.org/stable/modules/generated/sklearn.linear_model.Perceptron.html\n",
        "\n",
        "\n",
        "https://scikit-learn.org/stable/modules/generated/sklearn.linear_model.Perceptron.html\n",
        "\n",
        "\n"
      ]
    }
  ]
}