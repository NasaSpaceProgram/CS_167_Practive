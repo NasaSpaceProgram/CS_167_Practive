{
  "nbformat": 4,
  "nbformat_minor": 0,
  "metadata": {
    "kernelspec": {
      "display_name": "Python 3",
      "language": "python",
      "name": "python3"
    },
    "language_info": {
      "codemirror_mode": {
        "name": "ipython",
        "version": 3
      },
      "file_extension": ".py",
      "mimetype": "text/x-python",
      "name": "python",
      "nbconvert_exporter": "python",
      "pygments_lexer": "ipython3",
      "version": "3.8.3"
    },
    "colab": {
      "name": "Day03_exercises.ipynb",
      "provenance": [],
      "include_colab_link": true
    }
  },
  "cells": [
    {
      "cell_type": "markdown",
      "metadata": {
        "id": "view-in-github",
        "colab_type": "text"
      },
      "source": [
        "<a href=\"https://colab.research.google.com/github/NasaSpaceProgram/CS_167_Practive/blob/main/Day03_exercises.ipynb\" target=\"_parent\"><img src=\"https://colab.research.google.com/assets/colab-badge.svg\" alt=\"Open In Colab\"/></a>"
      ]
    },
    {
      "cell_type": "markdown",
      "metadata": {
        "id": "jLxRz8FHj3Br"
      },
      "source": [
        "An example of a markdown cell<br>\n",
        "Author: <b>Your name here</b><br>\n",
        "Date: February 4, 2020\n",
        "# Python and Pandas Exercises\n",
        "\n",
        "Before you begin, make sure you download the data from Blackboard and put it in your Google Drive where you know how to find it (preferably in a datasets folder)."
      ]
    },
    {
      "cell_type": "code",
      "metadata": {
        "colab": {
          "base_uri": "https://localhost:8080/"
        },
        "id": "yr0F4GDzj3Bt",
        "outputId": "5ae036b9-a9ba-4bcc-f895-0ac303278ef7"
      },
      "source": [
        "#selecting columns in dataframes\n",
        "import pandas\n",
        "from google.colab import drive\n",
        "drive.mount('/content/drive')"
      ],
      "execution_count": 2,
      "outputs": [
        {
          "output_type": "stream",
          "name": "stdout",
          "text": [
            "Mounted at /content/drive\n"
          ]
        }
      ]
    },
    {
      "cell_type": "code",
      "metadata": {
        "id": "I6j9JDTFkIrK",
        "colab": {
          "base_uri": "https://localhost:8080/",
          "height": 205
        },
        "outputId": "1982676c-bd9e-4cc6-c601-3f8060bc0ab9"
      },
      "source": [
        "#import the data:\n",
        "#make sure the path on the line below corresponds to the path where you put your dataset.\n",
        "titanic = pandas.read_csv(\"/content/drive/MyDrive/CS167/datasets/titanic.csv\")\n",
        "titanic.head()"
      ],
      "execution_count": 3,
      "outputs": [
        {
          "output_type": "execute_result",
          "data": {
            "text/html": [
              "<div>\n",
              "<style scoped>\n",
              "    .dataframe tbody tr th:only-of-type {\n",
              "        vertical-align: middle;\n",
              "    }\n",
              "\n",
              "    .dataframe tbody tr th {\n",
              "        vertical-align: top;\n",
              "    }\n",
              "\n",
              "    .dataframe thead th {\n",
              "        text-align: right;\n",
              "    }\n",
              "</style>\n",
              "<table border=\"1\" class=\"dataframe\">\n",
              "  <thead>\n",
              "    <tr style=\"text-align: right;\">\n",
              "      <th></th>\n",
              "      <th>survived</th>\n",
              "      <th>pclass</th>\n",
              "      <th>sex</th>\n",
              "      <th>age</th>\n",
              "      <th>sibsp</th>\n",
              "      <th>parch</th>\n",
              "      <th>fare</th>\n",
              "      <th>embarked</th>\n",
              "      <th>class</th>\n",
              "      <th>who</th>\n",
              "      <th>adult_male</th>\n",
              "      <th>deck</th>\n",
              "      <th>embark_town</th>\n",
              "      <th>alive</th>\n",
              "      <th>alone</th>\n",
              "    </tr>\n",
              "  </thead>\n",
              "  <tbody>\n",
              "    <tr>\n",
              "      <th>0</th>\n",
              "      <td>0</td>\n",
              "      <td>3</td>\n",
              "      <td>male</td>\n",
              "      <td>22.0</td>\n",
              "      <td>1</td>\n",
              "      <td>0</td>\n",
              "      <td>7.2500</td>\n",
              "      <td>S</td>\n",
              "      <td>Third</td>\n",
              "      <td>man</td>\n",
              "      <td>True</td>\n",
              "      <td>NaN</td>\n",
              "      <td>Southampton</td>\n",
              "      <td>no</td>\n",
              "      <td>False</td>\n",
              "    </tr>\n",
              "    <tr>\n",
              "      <th>1</th>\n",
              "      <td>1</td>\n",
              "      <td>1</td>\n",
              "      <td>female</td>\n",
              "      <td>38.0</td>\n",
              "      <td>1</td>\n",
              "      <td>0</td>\n",
              "      <td>71.2833</td>\n",
              "      <td>C</td>\n",
              "      <td>First</td>\n",
              "      <td>woman</td>\n",
              "      <td>False</td>\n",
              "      <td>C</td>\n",
              "      <td>Cherbourg</td>\n",
              "      <td>yes</td>\n",
              "      <td>False</td>\n",
              "    </tr>\n",
              "    <tr>\n",
              "      <th>2</th>\n",
              "      <td>1</td>\n",
              "      <td>3</td>\n",
              "      <td>female</td>\n",
              "      <td>26.0</td>\n",
              "      <td>0</td>\n",
              "      <td>0</td>\n",
              "      <td>7.9250</td>\n",
              "      <td>S</td>\n",
              "      <td>Third</td>\n",
              "      <td>woman</td>\n",
              "      <td>False</td>\n",
              "      <td>NaN</td>\n",
              "      <td>Southampton</td>\n",
              "      <td>yes</td>\n",
              "      <td>True</td>\n",
              "    </tr>\n",
              "    <tr>\n",
              "      <th>3</th>\n",
              "      <td>1</td>\n",
              "      <td>1</td>\n",
              "      <td>female</td>\n",
              "      <td>35.0</td>\n",
              "      <td>1</td>\n",
              "      <td>0</td>\n",
              "      <td>53.1000</td>\n",
              "      <td>S</td>\n",
              "      <td>First</td>\n",
              "      <td>woman</td>\n",
              "      <td>False</td>\n",
              "      <td>C</td>\n",
              "      <td>Southampton</td>\n",
              "      <td>yes</td>\n",
              "      <td>False</td>\n",
              "    </tr>\n",
              "    <tr>\n",
              "      <th>4</th>\n",
              "      <td>0</td>\n",
              "      <td>3</td>\n",
              "      <td>male</td>\n",
              "      <td>35.0</td>\n",
              "      <td>0</td>\n",
              "      <td>0</td>\n",
              "      <td>8.0500</td>\n",
              "      <td>S</td>\n",
              "      <td>Third</td>\n",
              "      <td>man</td>\n",
              "      <td>True</td>\n",
              "      <td>NaN</td>\n",
              "      <td>Southampton</td>\n",
              "      <td>no</td>\n",
              "      <td>True</td>\n",
              "    </tr>\n",
              "  </tbody>\n",
              "</table>\n",
              "</div>"
            ],
            "text/plain": [
              "   survived  pclass     sex   age  ...  deck  embark_town  alive  alone\n",
              "0         0       3    male  22.0  ...   NaN  Southampton     no  False\n",
              "1         1       1  female  38.0  ...     C    Cherbourg    yes  False\n",
              "2         1       3  female  26.0  ...   NaN  Southampton    yes   True\n",
              "3         1       1  female  35.0  ...     C  Southampton    yes  False\n",
              "4         0       3    male  35.0  ...   NaN  Southampton     no   True\n",
              "\n",
              "[5 rows x 15 columns]"
            ]
          },
          "metadata": {},
          "execution_count": 3
        }
      ]
    },
    {
      "cell_type": "code",
      "metadata": {
        "id": "a_AVxZI8j3Bt",
        "colab": {
          "base_uri": "https://localhost:8080/"
        },
        "outputId": "6306dcf5-02d2-4ebc-d45b-198de5b88870"
      },
      "source": [
        "# what is the data type of titanic?\n",
        "type(titanic)"
      ],
      "execution_count": 4,
      "outputs": [
        {
          "output_type": "execute_result",
          "data": {
            "text/plain": [
              "pandas.core.frame.DataFrame"
            ]
          },
          "metadata": {},
          "execution_count": 4
        }
      ]
    },
    {
      "cell_type": "code",
      "metadata": {
        "id": "jGLg4qpRj3Bu",
        "colab": {
          "base_uri": "https://localhost:8080/"
        },
        "outputId": "42f3d67a-d2c9-40be-e7e0-17610edc60b4"
      },
      "source": [
        "# what are the features (column titles) of the titanic dataset?\n",
        "titanic.columns"
      ],
      "execution_count": 5,
      "outputs": [
        {
          "output_type": "execute_result",
          "data": {
            "text/plain": [
              "Index(['survived', 'pclass', 'sex', 'age', 'sibsp', 'parch', 'fare',\n",
              "       'embarked', 'class', 'who', 'adult_male', 'deck', 'embark_town',\n",
              "       'alive', 'alone'],\n",
              "      dtype='object')"
            ]
          },
          "metadata": {},
          "execution_count": 5
        }
      ]
    },
    {
      "cell_type": "code",
      "metadata": {
        "id": "MboWzAw6j3Bu",
        "colab": {
          "base_uri": "https://localhost:8080/"
        },
        "outputId": "21ab822d-ffb7-41e4-b946-65104ff58cec"
      },
      "source": [
        "# display only the 'embark_town' column of the titanic data\n",
        "titanic['embark_town']"
      ],
      "execution_count": 6,
      "outputs": [
        {
          "output_type": "execute_result",
          "data": {
            "text/plain": [
              "0      Southampton\n",
              "1        Cherbourg\n",
              "2      Southampton\n",
              "3      Southampton\n",
              "4      Southampton\n",
              "          ...     \n",
              "886    Southampton\n",
              "887    Southampton\n",
              "888    Southampton\n",
              "889      Cherbourg\n",
              "890     Queenstown\n",
              "Name: embark_town, Length: 891, dtype: object"
            ]
          },
          "metadata": {},
          "execution_count": 6
        }
      ]
    },
    {
      "cell_type": "code",
      "metadata": {
        "id": "iIfxrKGej3Bu",
        "colab": {
          "base_uri": "https://localhost:8080/"
        },
        "outputId": "1582e1d1-2628-4ee3-e0ec-a8e9489f8133"
      },
      "source": [
        "# what is the data type of the result of the previous cell? \n",
        "type(titanic['embark_town'])"
      ],
      "execution_count": 7,
      "outputs": [
        {
          "output_type": "execute_result",
          "data": {
            "text/plain": [
              "pandas.core.series.Series"
            ]
          },
          "metadata": {},
          "execution_count": 7
        }
      ]
    },
    {
      "cell_type": "code",
      "metadata": {
        "id": "yMbIVBNUj3Bv",
        "colab": {
          "base_uri": "https://localhost:8080/"
        },
        "outputId": "e98ff40a-11aa-4289-dab6-4e5a44c30ac1"
      },
      "source": [
        "# what is the \"shape\" of the data frame?\n",
        "titanic.shape"
      ],
      "execution_count": 8,
      "outputs": [
        {
          "output_type": "execute_result",
          "data": {
            "text/plain": [
              "(891, 15)"
            ]
          },
          "metadata": {},
          "execution_count": 8
        }
      ]
    },
    {
      "cell_type": "code",
      "metadata": {
        "id": "DwPvjlCyj3Bv",
        "colab": {
          "base_uri": "https://localhost:8080/"
        },
        "outputId": "58a94d64-aa15-46f3-b618-577b6587ba74"
      },
      "source": [
        "# make a subset (call the variable 'subset') of the data that consists of the last 20 rows of the data;\n",
        "# verify that your subset has 20 rows\n",
        "t = titanic.loc[871:891]\n",
        "t.head()\n",
        "t.shape[0]"
      ],
      "execution_count": 11,
      "outputs": [
        {
          "output_type": "execute_result",
          "data": {
            "text/plain": [
              "20"
            ]
          },
          "metadata": {},
          "execution_count": 11
        }
      ]
    },
    {
      "cell_type": "code",
      "metadata": {
        "id": "EcgIP2CHj3Bv",
        "colab": {
          "base_uri": "https://localhost:8080/"
        },
        "outputId": "6f0c9fb7-b356-45d0-8e86-bb5ceae72c49"
      },
      "source": [
        "# use loc to print out the data for passenger 890 on the titanic dataframe\n",
        "# use iloc to print out the data for passenger 890 on the subest dataframe\n",
        "t.loc[890]\n",
        "t.iloc[18]"
      ],
      "execution_count": 15,
      "outputs": [
        {
          "output_type": "execute_result",
          "data": {
            "text/plain": [
              "survived               1\n",
              "pclass                 1\n",
              "sex                 male\n",
              "age                   26\n",
              "sibsp                  0\n",
              "parch                  0\n",
              "fare                  30\n",
              "embarked               C\n",
              "class              First\n",
              "who                  man\n",
              "adult_male          True\n",
              "deck                   C\n",
              "embark_town    Cherbourg\n",
              "alive                yes\n",
              "alone               True\n",
              "Name: 889, dtype: object"
            ]
          },
          "metadata": {},
          "execution_count": 15
        }
      ]
    },
    {
      "cell_type": "code",
      "metadata": {
        "id": "Pt8Yjfoaj3Bw"
      },
      "source": [
        "# use a markdown cell; describe the difference between loc and iloc"
      ],
      "execution_count": null,
      "outputs": []
    },
    {
      "cell_type": "markdown",
      "metadata": {
        "id": "hLGVIukk0k-y"
      },
      "source": [
        "loc uses the label from the origonal data set for indexing\n",
        "iloc uses the index of the subset for indexing"
      ]
    },
    {
      "cell_type": "code",
      "metadata": {
        "id": "lUWU4TPXj3Bw",
        "colab": {
          "base_uri": "https://localhost:8080/",
          "height": 205
        },
        "outputId": "474fce5b-3c17-482a-9963-d579732a8337"
      },
      "source": [
        "# create a subset of the data (call the variable 'queenstown_subset') that consists only of passengers with\n",
        "# a 'embark_town' that is \"Queenstown\"\n",
        "# hint: if you get a warning, you may need to explicitly note that you are making a copy of the original data by using \n",
        "# the .copy() function\n",
        "FrmQueens = titanic.copy()\n",
        "FrmQueens = FrmQueens[FrmQueens['embark_town']=='Queenstown']\n",
        "FrmQueens.head()"
      ],
      "execution_count": 18,
      "outputs": [
        {
          "output_type": "execute_result",
          "data": {
            "text/html": [
              "<div>\n",
              "<style scoped>\n",
              "    .dataframe tbody tr th:only-of-type {\n",
              "        vertical-align: middle;\n",
              "    }\n",
              "\n",
              "    .dataframe tbody tr th {\n",
              "        vertical-align: top;\n",
              "    }\n",
              "\n",
              "    .dataframe thead th {\n",
              "        text-align: right;\n",
              "    }\n",
              "</style>\n",
              "<table border=\"1\" class=\"dataframe\">\n",
              "  <thead>\n",
              "    <tr style=\"text-align: right;\">\n",
              "      <th></th>\n",
              "      <th>survived</th>\n",
              "      <th>pclass</th>\n",
              "      <th>sex</th>\n",
              "      <th>age</th>\n",
              "      <th>sibsp</th>\n",
              "      <th>parch</th>\n",
              "      <th>fare</th>\n",
              "      <th>embarked</th>\n",
              "      <th>class</th>\n",
              "      <th>who</th>\n",
              "      <th>adult_male</th>\n",
              "      <th>deck</th>\n",
              "      <th>embark_town</th>\n",
              "      <th>alive</th>\n",
              "      <th>alone</th>\n",
              "    </tr>\n",
              "  </thead>\n",
              "  <tbody>\n",
              "    <tr>\n",
              "      <th>5</th>\n",
              "      <td>0</td>\n",
              "      <td>3</td>\n",
              "      <td>male</td>\n",
              "      <td>NaN</td>\n",
              "      <td>0</td>\n",
              "      <td>0</td>\n",
              "      <td>8.4583</td>\n",
              "      <td>Q</td>\n",
              "      <td>Third</td>\n",
              "      <td>man</td>\n",
              "      <td>True</td>\n",
              "      <td>NaN</td>\n",
              "      <td>Queenstown</td>\n",
              "      <td>no</td>\n",
              "      <td>True</td>\n",
              "    </tr>\n",
              "    <tr>\n",
              "      <th>16</th>\n",
              "      <td>0</td>\n",
              "      <td>3</td>\n",
              "      <td>male</td>\n",
              "      <td>2.0</td>\n",
              "      <td>4</td>\n",
              "      <td>1</td>\n",
              "      <td>29.1250</td>\n",
              "      <td>Q</td>\n",
              "      <td>Third</td>\n",
              "      <td>child</td>\n",
              "      <td>False</td>\n",
              "      <td>NaN</td>\n",
              "      <td>Queenstown</td>\n",
              "      <td>no</td>\n",
              "      <td>False</td>\n",
              "    </tr>\n",
              "    <tr>\n",
              "      <th>22</th>\n",
              "      <td>1</td>\n",
              "      <td>3</td>\n",
              "      <td>female</td>\n",
              "      <td>15.0</td>\n",
              "      <td>0</td>\n",
              "      <td>0</td>\n",
              "      <td>8.0292</td>\n",
              "      <td>Q</td>\n",
              "      <td>Third</td>\n",
              "      <td>child</td>\n",
              "      <td>False</td>\n",
              "      <td>NaN</td>\n",
              "      <td>Queenstown</td>\n",
              "      <td>yes</td>\n",
              "      <td>True</td>\n",
              "    </tr>\n",
              "    <tr>\n",
              "      <th>28</th>\n",
              "      <td>1</td>\n",
              "      <td>3</td>\n",
              "      <td>female</td>\n",
              "      <td>NaN</td>\n",
              "      <td>0</td>\n",
              "      <td>0</td>\n",
              "      <td>7.8792</td>\n",
              "      <td>Q</td>\n",
              "      <td>Third</td>\n",
              "      <td>woman</td>\n",
              "      <td>False</td>\n",
              "      <td>NaN</td>\n",
              "      <td>Queenstown</td>\n",
              "      <td>yes</td>\n",
              "      <td>True</td>\n",
              "    </tr>\n",
              "    <tr>\n",
              "      <th>32</th>\n",
              "      <td>1</td>\n",
              "      <td>3</td>\n",
              "      <td>female</td>\n",
              "      <td>NaN</td>\n",
              "      <td>0</td>\n",
              "      <td>0</td>\n",
              "      <td>7.7500</td>\n",
              "      <td>Q</td>\n",
              "      <td>Third</td>\n",
              "      <td>woman</td>\n",
              "      <td>False</td>\n",
              "      <td>NaN</td>\n",
              "      <td>Queenstown</td>\n",
              "      <td>yes</td>\n",
              "      <td>True</td>\n",
              "    </tr>\n",
              "  </tbody>\n",
              "</table>\n",
              "</div>"
            ],
            "text/plain": [
              "    survived  pclass     sex   age  ...  deck  embark_town  alive  alone\n",
              "5          0       3    male   NaN  ...   NaN   Queenstown     no   True\n",
              "16         0       3    male   2.0  ...   NaN   Queenstown     no  False\n",
              "22         1       3  female  15.0  ...   NaN   Queenstown    yes   True\n",
              "28         1       3  female   NaN  ...   NaN   Queenstown    yes   True\n",
              "32         1       3  female   NaN  ...   NaN   Queenstown    yes   True\n",
              "\n",
              "[5 rows x 15 columns]"
            ]
          },
          "metadata": {},
          "execution_count": 18
        }
      ]
    },
    {
      "cell_type": "code",
      "metadata": {
        "id": "JXEMz80qj3Bw",
        "colab": {
          "base_uri": "https://localhost:8080/"
        },
        "outputId": "ec3613ff-6976-4913-9b87-c91828a44f67"
      },
      "source": [
        "# how many passengers are in queenstown_subset?\n",
        "FrmQueens.shape[0]"
      ],
      "execution_count": 19,
      "outputs": [
        {
          "output_type": "execute_result",
          "data": {
            "text/plain": [
              "77"
            ]
          },
          "metadata": {},
          "execution_count": 19
        }
      ]
    },
    {
      "cell_type": "code",
      "metadata": {
        "id": "xUH8PUxYj3Bw",
        "colab": {
          "base_uri": "https://localhost:8080/"
        },
        "outputId": "6cbaa9a1-f087-4530-d14e-7271d4e260ee"
      },
      "source": [
        "# what is the average fare for all of those in the queenstown_subset?\n",
        "FrmQueens['fare'].mean()"
      ],
      "execution_count": 20,
      "outputs": [
        {
          "output_type": "execute_result",
          "data": {
            "text/plain": [
              "13.276029870129872"
            ]
          },
          "metadata": {},
          "execution_count": 20
        }
      ]
    },
    {
      "cell_type": "code",
      "metadata": {
        "id": "6pwExAOFj3Bx",
        "colab": {
          "base_uri": "https://localhost:8080/"
        },
        "outputId": "7c23472f-28c6-418d-d1c7-0c5bee3d9003"
      },
      "source": [
        "# what is the average age for all of those in the queenstown_subset?\n",
        "# do all of the passengers have an age recorded? What is recorded if there is no age?\n",
        "FrmQueens['age'].mean()\n"
      ],
      "execution_count": 23,
      "outputs": [
        {
          "output_type": "execute_result",
          "data": {
            "text/plain": [
              "28.089285714285715"
            ]
          },
          "metadata": {},
          "execution_count": 23
        }
      ]
    },
    {
      "cell_type": "code",
      "metadata": {
        "id": "sP1rmGTu15Mw",
        "outputId": "238b6912-7496-4394-da96-a0f9713c28d8",
        "colab": {
          "base_uri": "https://localhost:8080/"
        }
      },
      "source": [
        "FrmQueens['age'].unique()"
      ],
      "execution_count": 25,
      "outputs": [
        {
          "output_type": "execute_result",
          "data": {
            "text/plain": [
              "array([ nan,  2. , 15. , 19. , 70.5, 16. ,  4. , 40. , 44. ,  7. , 65. ,\n",
              "       22. , 30. , 33. , 21. , 29. , 40.5, 57. , 18. , 32. , 25. , 31. ,\n",
              "       30.5,  8. , 39. ])"
            ]
          },
          "metadata": {},
          "execution_count": 25
        }
      ]
    },
    {
      "cell_type": "code",
      "metadata": {
        "id": "LJKj3kqOj3Bx"
      },
      "source": [
        "# What does unique(), mean(), isnull(), and fillna() do? Use a markdown cell to write your answers\n",
        "# Use the Pandas documentation (https://pandas.pydata.org/pandas-docs/stable/reference/index.html)"
      ],
      "execution_count": null,
      "outputs": []
    },
    {
      "cell_type": "markdown",
      "metadata": {
        "id": "17wWJDVA1_x5"
      },
      "source": [
        "unique(): retuns a list of all values that appere in a column\n",
        "\n",
        "mean(): retunrs the average of a column\n",
        "\n",
        "isnull(): returns true if the value is na or NAN\n",
        "\n",
        "fillna(value): fills all na values with the value"
      ]
    },
    {
      "cell_type": "code",
      "metadata": {
        "id": "oyMWoEn1j3Bx"
      },
      "source": [
        "# give examples of your use of unique(), mean(), median(), isnull()\n",
        "FrmQueens['age'].unique()"
      ],
      "execution_count": null,
      "outputs": []
    },
    {
      "cell_type": "code",
      "metadata": {
        "id": "pg4PgWe83bnj"
      },
      "source": [
        "FrmQueens['age'].mean()"
      ],
      "execution_count": null,
      "outputs": []
    },
    {
      "cell_type": "code",
      "metadata": {
        "id": "f1c6HTVu3bYd"
      },
      "source": [
        "FrmQueens['age'].median()"
      ],
      "execution_count": null,
      "outputs": []
    },
    {
      "cell_type": "code",
      "metadata": {
        "id": "McLY2aed3a8y",
        "outputId": "c53e113e-1dd2-466b-a899-23c672076892",
        "colab": {
          "base_uri": "https://localhost:8080/"
        }
      },
      "source": [
        "FrmQueens['age'].isnull()"
      ],
      "execution_count": 26,
      "outputs": [
        {
          "output_type": "execute_result",
          "data": {
            "text/plain": [
              "5       True\n",
              "16     False\n",
              "22     False\n",
              "28      True\n",
              "32      True\n",
              "       ...  \n",
              "790     True\n",
              "825     True\n",
              "828     True\n",
              "885    False\n",
              "890    False\n",
              "Name: age, Length: 77, dtype: bool"
            ]
          },
          "metadata": {},
          "execution_count": 26
        }
      ]
    },
    {
      "cell_type": "code",
      "metadata": {
        "id": "SCclnZC7j3Bx",
        "colab": {
          "base_uri": "https://localhost:8080/"
        },
        "outputId": "48cc1fa6-ebba-4386-af6c-0d45c30bb55c"
      },
      "source": [
        "# in the queenstown_subet dataframe\n",
        "# for each row that does not have an age recorded, replace the NaN value with the calculated average\n",
        "# hint: don't use a loop; it can be done in 1 line of code using fillna()\n",
        "aveage = FrmQueens['age'].mean()\n",
        "FrmQueens['age'].fillna(aveage)"
      ],
      "execution_count": 27,
      "outputs": [
        {
          "output_type": "execute_result",
          "data": {
            "text/plain": [
              "5      28.089286\n",
              "16      2.000000\n",
              "22     15.000000\n",
              "28     28.089286\n",
              "32     28.089286\n",
              "         ...    \n",
              "790    28.089286\n",
              "825    28.089286\n",
              "828    28.089286\n",
              "885    39.000000\n",
              "890    32.000000\n",
              "Name: age, Length: 77, dtype: float64"
            ]
          },
          "metadata": {},
          "execution_count": 27
        }
      ]
    },
    {
      "cell_type": "code",
      "metadata": {
        "id": "c9DPtgIOj3By",
        "colab": {
          "base_uri": "https://localhost:8080/",
          "height": 205
        },
        "outputId": "fa531624-1b72-46f1-8b6f-e2c8034f1537"
      },
      "source": [
        "# load in the iris data\n",
        "# what is the median sepal width of just the Setosas?\n",
        "#import the data:\n",
        "#make sure the path on the line below corresponds to the path where you put your dataset.\n",
        "iris = pandas.read_csv(\"/content/drive/MyDrive/CS167/datasets/irisData.csv\")\n",
        "iris.head()"
      ],
      "execution_count": 32,
      "outputs": [
        {
          "output_type": "execute_result",
          "data": {
            "text/html": [
              "<div>\n",
              "<style scoped>\n",
              "    .dataframe tbody tr th:only-of-type {\n",
              "        vertical-align: middle;\n",
              "    }\n",
              "\n",
              "    .dataframe tbody tr th {\n",
              "        vertical-align: top;\n",
              "    }\n",
              "\n",
              "    .dataframe thead th {\n",
              "        text-align: right;\n",
              "    }\n",
              "</style>\n",
              "<table border=\"1\" class=\"dataframe\">\n",
              "  <thead>\n",
              "    <tr style=\"text-align: right;\">\n",
              "      <th></th>\n",
              "      <th>sepal length</th>\n",
              "      <th>sepal width</th>\n",
              "      <th>petal length</th>\n",
              "      <th>petal width</th>\n",
              "      <th>species</th>\n",
              "    </tr>\n",
              "  </thead>\n",
              "  <tbody>\n",
              "    <tr>\n",
              "      <th>0</th>\n",
              "      <td>5.1</td>\n",
              "      <td>3.5</td>\n",
              "      <td>1.4</td>\n",
              "      <td>0.2</td>\n",
              "      <td>Iris-setosa</td>\n",
              "    </tr>\n",
              "    <tr>\n",
              "      <th>1</th>\n",
              "      <td>4.9</td>\n",
              "      <td>3.0</td>\n",
              "      <td>1.4</td>\n",
              "      <td>0.2</td>\n",
              "      <td>Iris-setosa</td>\n",
              "    </tr>\n",
              "    <tr>\n",
              "      <th>2</th>\n",
              "      <td>4.7</td>\n",
              "      <td>3.2</td>\n",
              "      <td>1.3</td>\n",
              "      <td>0.2</td>\n",
              "      <td>Iris-setosa</td>\n",
              "    </tr>\n",
              "    <tr>\n",
              "      <th>3</th>\n",
              "      <td>4.6</td>\n",
              "      <td>3.1</td>\n",
              "      <td>1.5</td>\n",
              "      <td>0.2</td>\n",
              "      <td>Iris-setosa</td>\n",
              "    </tr>\n",
              "    <tr>\n",
              "      <th>4</th>\n",
              "      <td>5.0</td>\n",
              "      <td>3.6</td>\n",
              "      <td>1.4</td>\n",
              "      <td>0.2</td>\n",
              "      <td>Iris-setosa</td>\n",
              "    </tr>\n",
              "  </tbody>\n",
              "</table>\n",
              "</div>"
            ],
            "text/plain": [
              "   sepal length  sepal width  petal length  petal width      species\n",
              "0           5.1          3.5           1.4          0.2  Iris-setosa\n",
              "1           4.9          3.0           1.4          0.2  Iris-setosa\n",
              "2           4.7          3.2           1.3          0.2  Iris-setosa\n",
              "3           4.6          3.1           1.5          0.2  Iris-setosa\n",
              "4           5.0          3.6           1.4          0.2  Iris-setosa"
            ]
          },
          "metadata": {},
          "execution_count": 32
        }
      ]
    },
    {
      "cell_type": "code",
      "metadata": {
        "id": "eKSOIeZNj3By",
        "colab": {
          "base_uri": "https://localhost:8080/"
        },
        "outputId": "db7400b7-2522-41c1-e15f-78b3253fe096"
      },
      "source": [
        "# for those iris that are classified as versicolor and have \n",
        "# a petal-length > 4, what is the average sepal width?\n",
        "iris[iris['petal length'] < 4]['sepal width'].mean()"
      ],
      "execution_count": 33,
      "outputs": [
        {
          "output_type": "execute_result",
          "data": {
            "text/plain": [
              "3.250819672131148"
            ]
          },
          "metadata": {},
          "execution_count": 33
        }
      ]
    }
  ]
}